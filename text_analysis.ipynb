{
 "cells": [
  {
   "cell_type": "code",
   "execution_count": 12,
   "metadata": {},
   "outputs": [
    {
     "name": "stdout",
     "output_type": "stream",
     "text": [
      "Requirement already satisfied: beautifulsoup4 in c:\\users\\meera\\appdata\\local\\programs\\python\\python311\\lib\\site-packages (4.12.2)\n",
      "Requirement already satisfied: openpyxl in c:\\users\\meera\\appdata\\local\\programs\\python\\python311\\lib\\site-packages (3.1.2)\n",
      "Requirement already satisfied: pandas in c:\\users\\meera\\appdata\\local\\programs\\python\\python311\\lib\\site-packages (2.1.1)\n",
      "Requirement already satisfied: nltk in c:\\users\\meera\\appdata\\local\\programs\\python\\python311\\lib\\site-packages (3.9.1)\n",
      "Requirement already satisfied: soupsieve>1.2 in c:\\users\\meera\\appdata\\local\\programs\\python\\python311\\lib\\site-packages (from beautifulsoup4) (2.5)\n",
      "Requirement already satisfied: et-xmlfile in c:\\users\\meera\\appdata\\local\\programs\\python\\python311\\lib\\site-packages (from openpyxl) (1.1.0)\n",
      "Requirement already satisfied: numpy>=1.23.2 in c:\\users\\meera\\appdata\\local\\programs\\python\\python311\\lib\\site-packages (from pandas) (1.25.2)\n",
      "Requirement already satisfied: python-dateutil>=2.8.2 in c:\\users\\meera\\appdata\\local\\programs\\python\\python311\\lib\\site-packages (from pandas) (2.8.2)\n",
      "Requirement already satisfied: pytz>=2020.1 in c:\\users\\meera\\appdata\\local\\programs\\python\\python311\\lib\\site-packages (from pandas) (2023.3.post1)\n",
      "Requirement already satisfied: tzdata>=2022.1 in c:\\users\\meera\\appdata\\local\\programs\\python\\python311\\lib\\site-packages (from pandas) (2023.3)\n",
      "Requirement already satisfied: click in c:\\users\\meera\\appdata\\local\\programs\\python\\python311\\lib\\site-packages (from nltk) (8.1.7)\n",
      "Requirement already satisfied: joblib in c:\\users\\meera\\appdata\\local\\programs\\python\\python311\\lib\\site-packages (from nltk) (1.3.2)\n",
      "Requirement already satisfied: regex>=2021.8.3 in c:\\users\\meera\\appdata\\local\\programs\\python\\python311\\lib\\site-packages (from nltk) (2024.9.11)\n",
      "Requirement already satisfied: tqdm in c:\\users\\meera\\appdata\\local\\programs\\python\\python311\\lib\\site-packages (from nltk) (4.66.5)\n",
      "Requirement already satisfied: six>=1.5 in c:\\users\\meera\\appdata\\local\\programs\\python\\python311\\lib\\site-packages (from python-dateutil>=2.8.2->pandas) (1.16.0)\n",
      "Requirement already satisfied: colorama in c:\\users\\meera\\appdata\\local\\programs\\python\\python311\\lib\\site-packages (from click->nltk) (0.4.6)\n"
     ]
    },
    {
     "name": "stderr",
     "output_type": "stream",
     "text": [
      "WARNING: Error parsing dependencies of pytorch-lightning: .* suffix can only be used with `==` or `!=` operators\n",
      "    torch (>=1.7.*)\n",
      "           ~~~~~~^\n"
     ]
    }
   ],
   "source": [
    "!pip install beautifulsoup4 openpyxl pandas nltk"
   ]
  },
  {
   "cell_type": "code",
   "execution_count": 51,
   "metadata": {},
   "outputs": [
    {
     "name": "stderr",
     "output_type": "stream",
     "text": [
      "[nltk_data] Downloading package punkt_tab to\n",
      "[nltk_data]     C:\\Users\\meera/nltk_data...\n",
      "[nltk_data]   Unzipping tokenizers\\punkt_tab.zip.\n"
     ]
    },
    {
     "data": {
      "text/plain": [
       "True"
      ]
     },
     "execution_count": 51,
     "metadata": {},
     "output_type": "execute_result"
    }
   ],
   "source": [
    "nltk.download('punkt_tab')"
   ]
  },
  {
   "cell_type": "code",
   "execution_count": 54,
   "metadata": {},
   "outputs": [],
   "source": [
    "import nltk\n",
    "import pandas as pd\n",
    "import re\n",
    "from nltk.corpus import stopwords\n",
    "from nltk.tokenize import word_tokenize, sent_tokenize"
   ]
  },
  {
   "cell_type": "code",
   "execution_count": 55,
   "metadata": {},
   "outputs": [
    {
     "name": "stdout",
     "output_type": "stream",
     "text": [
      "Punkt and stopwords are accessible!\n"
     ]
    }
   ],
   "source": [
    "import nltk\n",
    "nltk.data.path.append('./nltk_data')  # Ensure the correct relative path\n",
    "try:\n",
    "    nltk.data.find('tokenizers/punkt/english.pickle')\n",
    "    nltk.data.find('corpora/stopwords/english')\n",
    "    print(\"Punkt and stopwords are accessible!\")\n",
    "except LookupError as e:\n",
    "    print(f\"Error: {str(e)}\")"
   ]
  },
  {
   "cell_type": "code",
   "execution_count": 56,
   "metadata": {},
   "outputs": [],
   "source": [
    "stop_words = set(stopwords.words('english'))  # Stopwords from nltk_data\n",
    "positive_words = set(open('./MasterDictionary/positive-words.txt').read().split())  # Positive words dictionary\n",
    "negative_words = set(open('./MasterDictionary/negative-words.txt').read().split())  # Negative words dictionary\n"
   ]
  },
  {
   "cell_type": "code",
   "execution_count": 57,
   "metadata": {},
   "outputs": [],
   "source": [
    "\n",
    "def clean_text(text):\n",
    "    text = re.sub(r'\\W', ' ', text)  # Remove punctuation\n",
    "    tokens = word_tokenize(text.lower())  # Tokenize and lowercase\n",
    "    tokens = [word for word in tokens if word not in stop_words]  # Remove stop words\n",
    "    return tokens\n"
   ]
  },
  {
   "cell_type": "code",
   "execution_count": 58,
   "metadata": {},
   "outputs": [],
   "source": [
    "def count_syllables(word):\n",
    "    vowels = \"aeiouy\"\n",
    "    word = word.lower()\n",
    "    count = 0\n",
    "    if word[0] in vowels:\n",
    "        count += 1\n",
    "    for index in range(1, len(word)):\n",
    "        if word[index] in vowels and word[index - 1] not in vowels:\n",
    "            count += 1\n",
    "    if word.endswith(\"e\"):\n",
    "        count -= 1\n",
    "    if count == 0:\n",
    "        count += 1\n",
    "    return count"
   ]
  },
  {
   "cell_type": "code",
   "execution_count": 59,
   "metadata": {},
   "outputs": [],
   "source": [
    "def calculate_scores(text):\n",
    "    tokens = clean_text(text)\n",
    "    sentences = sent_tokenize(text)\n",
    "    \n",
    "    # Count positive and negative words\n",
    "    pos_score = sum(1 for word in tokens if word in positive_words)\n",
    "    neg_score = sum(1 for word in tokens if word in negative_words)\n",
    "    \n",
    "    # Derived metrics\n",
    "    polarity_score = (pos_score - neg_score) / ((pos_score + neg_score) + 0.000001)\n",
    "    subjectivity_score = (pos_score + neg_score) / (len(tokens) + 0.000001)\n",
    "    \n",
    "    # Word and sentence metrics\n",
    "    total_words = len(tokens)\n",
    "    total_sentences = len(sentences)\n",
    "    avg_sentence_length = total_words / total_sentences if total_sentences > 0 else 0\n",
    "    avg_words_per_sentence = total_words / total_sentences if total_sentences > 0 else 0\n",
    "    \n",
    "    # Complex words count (words with more than 2 syllables)\n",
    "    complex_words = [word for word in tokens if count_syllables(word) > 2]\n",
    "    complex_word_count = len(complex_words)\n",
    "    perc_complex_words = complex_word_count / total_words if total_words > 0 else 0\n",
    "    fog_index = 0.4 * (avg_sentence_length + perc_complex_words)\n",
    "    \n",
    "    # Word and syllable counts\n",
    "    avg_word_length = sum(len(word) for word in tokens) / total_words if total_words > 0 else 0\n",
    "    syllables_per_word = sum(count_syllables(word) for word in tokens) / total_words if total_words > 0 else 0\n",
    "    \n",
    "    # Personal pronouns (basic regex for personal pronouns)\n",
    "    personal_pronouns = len(re.findall(r'\\b(I|we|my|ours|us)\\b', text, re.I))\n",
    "    \n",
    "    return {\n",
    "        'POSITIVE SCORE': pos_score,\n",
    "        'NEGATIVE SCORE': neg_score,\n",
    "        'POLARITY SCORE': polarity_score,\n",
    "        'SUBJECTIVITY SCORE': subjectivity_score,\n",
    "        'AVG SENTENCE LENGTH': avg_sentence_length,\n",
    "        'PERCENTAGE OF COMPLEX WORDS': perc_complex_words,\n",
    "        'FOG INDEX': fog_index,\n",
    "        'AVG NUMBER OF WORDS PER SENTENCE': avg_words_per_sentence,\n",
    "        'COMPLEX WORD COUNT': complex_word_count,\n",
    "        'WORD COUNT': total_words,\n",
    "        'SYLLABLE PER WORD': syllables_per_word,\n",
    "        'PERSONAL PRONOUNS': personal_pronouns,\n",
    "        'AVG WORD LENGTH': avg_word_length,\n",
    "    }\n"
   ]
  },
  {
   "cell_type": "code",
   "execution_count": 60,
   "metadata": {},
   "outputs": [],
   "source": [
    "def process_articles(input_file, output_file):\n",
    "    # Load the input Excel file\n",
    "    df = pd.read_excel(input_file)\n",
    "    \n",
    "    # List to store the results\n",
    "    results = []\n",
    "    \n",
    "    for idx, row in df.iterrows():\n",
    "        # Concatenate paragraphs from different columns to form the full article text\n",
    "        article_text = ' '.join([str(row[col]) for col in df.columns if pd.notna(row[col])])\n",
    "        \n",
    "        # If the article is successfully concatenated, calculate the scores\n",
    "        if article_text.strip():\n",
    "            scores = calculate_scores(article_text)\n",
    "            \n",
    "            # Prepare the result row\n",
    "            result_row = {\n",
    "                'ARTICLE_ID': idx + 1,  # Adding article ID\n",
    "                **scores\n",
    "            }\n",
    "            results.append(result_row)\n",
    "    \n",
    "    # Convert results to DataFrame and write to output Excel\n",
    "    result_df = pd.DataFrame(results)\n",
    "    result_df.to_excel(output_file, index=False)"
   ]
  },
  {
   "cell_type": "code",
   "execution_count": 61,
   "metadata": {},
   "outputs": [],
   "source": [
    "input_file_path = 'output_with_paragraphs.xlsx'  # Your scraped content file\n",
    "output_file_path = 'Processed_Output.xlsx'  # Output file path\n",
    "process_articles(input_file_path, output_file_path)"
   ]
  },
  {
   "cell_type": "code",
   "execution_count": 21,
   "metadata": {},
   "outputs": [
    {
     "name": "stdout",
     "output_type": "stream",
     "text": [
      "['C:\\\\Users\\\\meera/nltk_data', 'c:\\\\Users\\\\meera\\\\AppData\\\\Local\\\\Programs\\\\Python\\\\Python311\\\\nltk_data', 'c:\\\\Users\\\\meera\\\\AppData\\\\Local\\\\Programs\\\\Python\\\\Python311\\\\share\\\\nltk_data', 'c:\\\\Users\\\\meera\\\\AppData\\\\Local\\\\Programs\\\\Python\\\\Python311\\\\lib\\\\nltk_data', 'C:\\\\Users\\\\meera\\\\AppData\\\\Roaming\\\\nltk_data', 'C:\\\\nltk_data', 'D:\\\\nltk_data', 'E:\\\\nltk_data']\n"
     ]
    }
   ],
   "source": [
    "print(nltk.data.path)"
   ]
  },
  {
   "cell_type": "code",
   "execution_count": null,
   "metadata": {},
   "outputs": [],
   "source": []
  }
 ],
 "metadata": {
  "kernelspec": {
   "display_name": "Python 3",
   "language": "python",
   "name": "python3"
  },
  "language_info": {
   "codemirror_mode": {
    "name": "ipython",
    "version": 3
   },
   "file_extension": ".py",
   "mimetype": "text/x-python",
   "name": "python",
   "nbconvert_exporter": "python",
   "pygments_lexer": "ipython3",
   "version": "3.11.2"
  }
 },
 "nbformat": 4,
 "nbformat_minor": 2
}
